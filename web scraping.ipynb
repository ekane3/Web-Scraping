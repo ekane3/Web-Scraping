{
 "cells": [
  {
   "cell_type": "markdown",
   "metadata": {},
   "source": [
    "# Scraping a web page"
   ]
  },
  {
   "cell_type": "markdown",
   "metadata": {},
   "source": [
    "using the python BeautifulSoup library, we will scrape the webage: quotes.toscrape.com"
   ]
  },
  {
   "cell_type": "code",
   "execution_count": null,
   "metadata": {
    "scrolled": true
   },
   "outputs": [],
   "source": [
    "# first, install BeautifulSoup if not already installed\n",
    "!pip install bs4"
   ]
  },
  {
   "cell_type": "markdown",
   "metadata": {},
   "source": [
    "## Crash course in BeautifulSoup"
   ]
  },
  {
   "cell_type": "code",
   "execution_count": 12,
   "metadata": {},
   "outputs": [],
   "source": [
    "#pretty printer, utility library, not necessary for the purposes of this lab\n",
    "from pprint import PrettyPrinter\n",
    "pp = PrettyPrinter(indent=4)\n",
    "pp = pp.pprint"
   ]
  },
  {
   "cell_type": "code",
   "execution_count": 2,
   "metadata": {},
   "outputs": [],
   "source": [
    "from bs4 import BeautifulSoup\n",
    "import requests\n",
    "\n",
    "# a demo HTML content on which we will run a couple of tests\n",
    "demo_content = \"\"\"<div class=\"quote\">\n",
    "        <span class=\"text\">“Imperfection is beauty, madness is genius and it's better to be absolutely ridiculous than absolutely boring.”</span>\n",
    "        <span>by <small class=\"author\">Marilyn Monroe</small>\n",
    "        <a href=\"/author/Marilyn-Monroe\">(about)</a>\n",
    "        </span>\n",
    "    </div>\"\"\""
   ]
  },
  {
   "cell_type": "markdown",
   "metadata": {},
   "source": [
    "you can use BeautifulSoup to query HTML elements in a webpage, similar to how you would use JavaScript"
   ]
  },
  {
   "cell_type": "code",
   "execution_count": null,
   "metadata": {},
   "outputs": [],
   "source": [
    "# initialize a BeautifulSoup object with the content you want to scrape\n",
    "soup = BeautifulSoup(demo_content)"
   ]
  },
  {
   "cell_type": "code",
   "execution_count": null,
   "metadata": {},
   "outputs": [],
   "source": [
    "# find all 'span' elements in our content\n",
    "spans = soup.find_all('span')\n",
    "print(\"all the '<span>' elements extracted from the text:\")\n",
    "pp(spans)"
   ]
  },
  {
   "cell_type": "code",
   "execution_count": null,
   "metadata": {},
   "outputs": [],
   "source": [
    "# find a specific span by property name (class name in this case)\n",
    "class_text_spans = soup.find_all('span', {'class': 'text'})\n",
    "print(\"all the '<span>' elements with class 'text' extracted from the text:\")\n",
    "pp(class_text_spans)"
   ]
  },
  {
   "cell_type": "code",
   "execution_count": null,
   "metadata": {},
   "outputs": [],
   "source": [
    "# perform a search query on a result of a previous search query\n",
    "fine_tuned_span_results = []\n",
    "for span_result in spans:\n",
    "    fine_tuned_span_results += span_result.find_all('small')\n",
    "print(\"elements extracted from a previous query:\")\n",
    "pp(fine_tuned_span_results)"
   ]
  },
  {
   "cell_type": "markdown",
   "metadata": {},
   "source": [
    "If you are interested, you can read lore about BeautifulSoup in the documentation: https://beautiful-soup-4.readthedocs.io/en/latest/"
   ]
  },
  {
   "cell_type": "markdown",
   "metadata": {},
   "source": [
    "## Scraping quotes.toscrape.com"
   ]
  },
  {
   "cell_type": "markdown",
   "metadata": {},
   "source": [
    "Start by inspecting quotes.toscrape.com by using \"inspect element\" from the context menu (right-click)"
   ]
  },
  {
   "cell_type": "markdown",
   "metadata": {},
   "source": [
    "Your mission, shall you choose to accept it, is to scrape the aforementioned website, and extract all the quotes of the first 10 pages. In addition, save the quotes in a python dictionary, where the key is the quote author's name, and the values are the list of quotes of the author."
   ]
  },
  {
   "cell_type": "markdown",
   "metadata": {},
   "source": [
    "So as an example, your final dictionary would look like this:\n",
    "\n",
    "{\n",
    "\n",
    "    'Jorge Luis Borges': [   '“I have always imagined that Paradise will be a '\n",
    "                             'kind of library.”'],\n",
    "                             \n",
    "    'Khaled Hosseini':   [   '“But better to get hurt by the truth than '\n",
    "                           'comforted with a lie.”'],\n",
    "                           \n",
    "    \"Madeleine L'Engle\": [   '“You have to write the book that wants to be '\n",
    "                             'written. And if the book will be too difficult '\n",
    "                             'for grown-ups, then you write it for children.”'],\n",
    "    ...\n",
    "}"
   ]
  },
  {
   "cell_type": "code",
   "execution_count": null,
   "metadata": {
    "scrolled": false
   },
   "outputs": [],
   "source": [
    "from bs4 import BeautifulSoup\n",
    "import requests\n",
    "import time\n",
    "\n",
    "# *** note: the link to different pages can be accessed as: http://quotes.toscrape.com/page/PAGE_NUMBER ***\n",
    "link_to_scrape = 'http://quotes.toscrape.com/page/'\n",
    "quotes = {}\n",
    "\n",
    "# we only want the first 10 pages\n",
    "for i in range(1,11):\n",
    "    full_link = \"{}{}/\".format(link_to_scrape,i)\n",
    "    try:\n",
    "        data = requests.get(full_link)\n",
    "    except requests.exceptions.RequestException as e:\n",
    "        print(e)\n",
    "    if data.status_code == 200:\n",
    "        # page content can be accesed from: data._content\n",
    "        \n",
    "        # **************\n",
    "        # do your magic\n",
    "        # **************\n",
    "        \n",
    "    # qfter each iteration, sleep for 1 second so not to overload the web page with requests\n",
    "    time.sleep(1)"
   ]
  }
 ],
 "metadata": {
  "kernelspec": {
   "display_name": "Python 3 (ipykernel)",
   "language": "python",
   "name": "python3"
  },
  "language_info": {
   "codemirror_mode": {
    "name": "ipython",
    "version": 3
   },
   "file_extension": ".py",
   "mimetype": "text/x-python",
   "name": "python",
   "nbconvert_exporter": "python",
   "pygments_lexer": "ipython3",
   "version": "3.9.7"
  }
 },
 "nbformat": 4,
 "nbformat_minor": 4
}
