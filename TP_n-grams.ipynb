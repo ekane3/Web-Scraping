{
 "cells": [
  {
   "cell_type": "markdown",
   "id": "7d0c0d83",
   "metadata": {},
   "source": [
    "# Auto-complete model using n-grams\n"
   ]
  },
  {
   "cell_type": "markdown",
   "id": "a29cbb57",
   "metadata": {},
   "source": [
    "In this exercize, your mission, shall you choose to accept it, is to create a program that predicts the next word to appear in a given user input, based on a data base of text.\n",
    "\n",
    "Using n-grams, create 3-grams of the provided text, applying the necessary pre-processing to it, to predict the next word of a user input. \n",
    "\n",
    "The notebook below guides you in providing the framework of the necessary steps."
   ]
  },
  {
   "cell_type": "code",
   "execution_count": 14,
   "id": "758d65dc",
   "metadata": {},
   "outputs": [],
   "source": [
    "import re\n",
    "import unicodedata\n",
    "import string\n",
    "import random\n",
    "import nltk"
   ]
  },
  {
   "cell_type": "code",
   "execution_count": null,
   "id": "a6a6d9dd",
   "metadata": {},
   "outputs": [],
   "source": [
    "#Tokenize and perform lemmatization\n",
    "def clean(text):\n",
    "    output = [] #our list of cleaned words\n",
    "    \n",
    "    # apply lemmatization\n",
    "    \n",
    "    return output"
   ]
  },
  {
   "cell_type": "code",
   "execution_count": null,
   "id": "4bff74bc",
   "metadata": {},
   "outputs": [],
   "source": [
    "# remove unnecessary characters, perform regex parsing, and make lowercase\n",
    "def filter(text):\n",
    "    # remove punctuation\n",
    "    \n",
    "    # only alphabets and numerics\n",
    "    \n",
    "    # replace newline with space\n",
    "\n",
    "    # lower case\n",
    "\n",
    "    return text"
   ]
  },
  {
   "cell_type": "code",
   "execution_count": null,
   "id": "d561c371",
   "metadata": {},
   "outputs": [],
   "source": [
    "# Generate predictions from the created 3-grams\n",
    "def predict(model, user_input):\n",
    "    # do your magic\n",
    "    pass"
   ]
  },
  {
   "cell_type": "code",
   "execution_count": 15,
   "id": "e0b3634c",
   "metadata": {},
   "outputs": [],
   "source": [
    "# Make a language model using a dictionary, trigrams\n",
    "\n",
    "def n_gram_model(list_of_tokenized_text):\n",
    "    # a nifty tool to help us create ngrams. in this scenairo, we are creating tri-grams\n",
    "    # you can read more about it in the documentation:\n",
    "    # https://www.nltk.org/api/nltk.util.html#nltk.util.ngrams\n",
    "    trigrams = list(nltk.ngrams(list_of_tokenized_text, 3, pad_left=True, pad_right=True, left_pad_symbol='<s>', right_pad_symbol='</s>'))\n",
    "    \n",
    "   # continue your magic here"
   ]
  },
  {
   "cell_type": "code",
   "execution_count": null,
   "id": "88cba1a0",
   "metadata": {},
   "outputs": [],
   "source": [
    "\n",
    "\n",
    "def main():\n",
    "    file = open('alice.txt', 'r')\n",
    "    \n",
    "    text = \"\"\n",
    "    while True:\n",
    "        line = file.readline()\n",
    "        text += line\n",
    "        if not line:\n",
    "            break\n",
    "\n",
    "    # pre-process text\n",
    "    print(\"Filtering...\")\n",
    "    words = filter(text)\n",
    "    print(\"Cleaning...\")\n",
    "    words = clean(words)\n",
    "\n",
    "    # make language model\n",
    "    print(\"Making model...\")\n",
    "    model = n_gram_model(words)\n",
    "\n",
    "    print(\"Enter a phrase: \")\n",
    "    user_input = input()\n",
    "    predict(model, user_input)\n",
    "\n",
    "main()"
   ]
  }
 ],
 "metadata": {
  "kernelspec": {
   "display_name": "Python 3 (ipykernel)",
   "language": "python",
   "name": "python3"
  },
  "language_info": {
   "codemirror_mode": {
    "name": "ipython",
    "version": 3
   },
   "file_extension": ".py",
   "mimetype": "text/x-python",
   "name": "python",
   "nbconvert_exporter": "python",
   "pygments_lexer": "ipython3",
   "version": "3.9.7"
  }
 },
 "nbformat": 4,
 "nbformat_minor": 5
}
