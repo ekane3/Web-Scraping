{
 "cells": [
  {
   "cell_type": "code",
   "execution_count": null,
   "id": "67d2f645",
   "metadata": {},
   "outputs": [],
   "source": [
    "# install tweepy if not already installed\n",
    "!pip install tweepy"
   ]
  },
  {
   "cell_type": "markdown",
   "id": "098bb0b6",
   "metadata": {},
   "source": [
    "Below are the credentials co connect with twitter.\n",
    "\n",
    "You can create your own by following the instructions in the twitter developer platform documentation:\n",
    "\n",
    "https://developer.twitter.com/en/docs/twitter-api/getting-started/getting-access-to-the-twitter-api\n",
    "\n",
    "Then you can view/create your twitter apps in your developer dashboard:\n",
    "https://developer.twitter.com/en/portal/dashboard"
   ]
  },
  {
   "cell_type": "code",
   "execution_count": 24,
   "id": "a8035132",
   "metadata": {},
   "outputs": [],
   "source": [
    "import tweepy\n",
    "import pandas as pd\n",
    "\n",
    "consumer_key = \"8R0NY4L72d8umasI2iseaCa5I\"\n",
    "consumer_secret = \"ECPWmJHaf3sVxYHCHRezA0UWdbLmb9KgLhFtfZxAt2OYOweBug\"\n",
    "access_token = \"1862900484-uqFaQVx7uiekFu0wC9QitLtiRzdnHcWjAZENPjE\"\n",
    "access_token_secret = \"oUBuEIASchJhOjKkkkniICSKPycy0rg8QPJJnLEuCr07B\""
   ]
  },
  {
   "cell_type": "code",
   "execution_count": null,
   "id": "4b1d5c34",
   "metadata": {},
   "outputs": [],
   "source": [
    "# authenticate with the Twitter API, and create the 'api' object which we'll use to access the Twitter API\n",
    "auth = tweepy.OAuthHandler(consumer_key, consumer_secret)\n",
    "auth.set_access_token(access_token, access_token_secret)\n",
    "api = tweepy.API(auth)"
   ]
  },
  {
   "cell_type": "code",
   "execution_count": 48,
   "id": "3003f215",
   "metadata": {},
   "outputs": [],
   "source": [
    "def search_by_keyword(api, keyword):\n",
    "    \n",
    "    # creqte a pandas dataframe to save the fetched tweets\n",
    "    df = pd.DataFrame(columns=['id', 'created_at', 'username', 'location', 'following', \n",
    "                               'followers', 'retweetcount', 'text'])\n",
    "    \n",
    "    # run a query to twitter\n",
    "    tweets = tweepy.Cursor(api.search_tweets, q=keyword, lang=\"en\",\n",
    "                           tweet_mode='extended').items(10) # ** note that we are only fetching the first 10 tweets,\n",
    "                                                            # as to not exceed the limit of the free API tier **\n",
    "    \n",
    "    #save the tweets in our dataframe.\n",
    "    list_tweets = [tweet for tweet in tweets] \n",
    "    for tweet in list_tweets: \n",
    "        id = tweet.id\n",
    "        created_at = tweet.created_at\n",
    "        username = tweet.user.screen_name \n",
    "        location = tweet.user.location \n",
    "        following = tweet.user.friends_count \n",
    "        followers = tweet.user.followers_count \n",
    "        totaltweets = tweet.user.statuses_count \n",
    "        retweetcount = tweet.retweet_count \n",
    "        try: \n",
    "            text = tweet.retweeted_status.full_text \n",
    "        except AttributeError: \n",
    "            text = tweet.full_text \n",
    "  \n",
    "        tweets = [id, created_at, username, location, following, \n",
    "                     followers, retweetcount, text] \n",
    "        df.loc[len(df)] = tweets \n",
    "        \n",
    "    return df"
   ]
  },
  {
   "cell_type": "code",
   "execution_count": 51,
   "id": "2dfce629",
   "metadata": {
    "scrolled": false
   },
   "outputs": [],
   "source": [
    "keyword = \"#ukraine\"\n",
    "tweets_df = search_by_keyword(api, keyword)"
   ]
  },
  {
   "cell_type": "code",
   "execution_count": 52,
   "id": "a6603720",
   "metadata": {},
   "outputs": [
    {
     "data": {
      "text/html": [
       "<div>\n",
       "<style scoped>\n",
       "    .dataframe tbody tr th:only-of-type {\n",
       "        vertical-align: middle;\n",
       "    }\n",
       "\n",
       "    .dataframe tbody tr th {\n",
       "        vertical-align: top;\n",
       "    }\n",
       "\n",
       "    .dataframe thead th {\n",
       "        text-align: right;\n",
       "    }\n",
       "</style>\n",
       "<table border=\"1\" class=\"dataframe\">\n",
       "  <thead>\n",
       "    <tr style=\"text-align: right;\">\n",
       "      <th></th>\n",
       "      <th>id</th>\n",
       "      <th>created_at</th>\n",
       "      <th>username</th>\n",
       "      <th>location</th>\n",
       "      <th>following</th>\n",
       "      <th>followers</th>\n",
       "      <th>retweetcount</th>\n",
       "      <th>text</th>\n",
       "    </tr>\n",
       "  </thead>\n",
       "  <tbody>\n",
       "    <tr>\n",
       "      <th>0</th>\n",
       "      <td>1503681252104318980</td>\n",
       "      <td>2022-03-15 10:35:22+00:00</td>\n",
       "      <td>ascensi</td>\n",
       "      <td></td>\n",
       "      <td>820</td>\n",
       "      <td>493</td>\n",
       "      <td>2</td>\n",
       "      <td>\"A U.S. defense official said Monday that Ukra...</td>\n",
       "    </tr>\n",
       "    <tr>\n",
       "      <th>1</th>\n",
       "      <td>1503681250174767108</td>\n",
       "      <td>2022-03-15 10:35:21+00:00</td>\n",
       "      <td>sugarvenet_</td>\n",
       "      <td></td>\n",
       "      <td>14</td>\n",
       "      <td>1</td>\n",
       "      <td>0</td>\n",
       "      <td>- what's your superpower?\\n- I'm Ukrainian 🇺🇦\\...</td>\n",
       "    </tr>\n",
       "    <tr>\n",
       "      <th>2</th>\n",
       "      <td>1503681246047584260</td>\n",
       "      <td>2022-03-15 10:35:20+00:00</td>\n",
       "      <td>rhodes_shane</td>\n",
       "      <td>Newcastle Australia</td>\n",
       "      <td>79</td>\n",
       "      <td>24</td>\n",
       "      <td>8</td>\n",
       "      <td>It took Australia's #ABC journalists less than...</td>\n",
       "    </tr>\n",
       "    <tr>\n",
       "      <th>3</th>\n",
       "      <td>1503681245238251525</td>\n",
       "      <td>2022-03-15 10:35:20+00:00</td>\n",
       "      <td>erwinovich</td>\n",
       "      <td></td>\n",
       "      <td>245</td>\n",
       "      <td>70</td>\n",
       "      <td>0</td>\n",
       "      <td>@xXDeMoSiKXx @YourAnonOne No. Maybe you can se...</td>\n",
       "    </tr>\n",
       "    <tr>\n",
       "      <th>4</th>\n",
       "      <td>1503681239970111494</td>\n",
       "      <td>2022-03-15 10:35:19+00:00</td>\n",
       "      <td>feinberg_linda</td>\n",
       "      <td></td>\n",
       "      <td>311</td>\n",
       "      <td>595</td>\n",
       "      <td>2250</td>\n",
       "      <td>NEW: In a remarkable sign of the solidarity #P...</td>\n",
       "    </tr>\n",
       "  </tbody>\n",
       "</table>\n",
       "</div>"
      ],
      "text/plain": [
       "                    id                created_at        username  \\\n",
       "0  1503681252104318980 2022-03-15 10:35:22+00:00         ascensi   \n",
       "1  1503681250174767108 2022-03-15 10:35:21+00:00     sugarvenet_   \n",
       "2  1503681246047584260 2022-03-15 10:35:20+00:00    rhodes_shane   \n",
       "3  1503681245238251525 2022-03-15 10:35:20+00:00      erwinovich   \n",
       "4  1503681239970111494 2022-03-15 10:35:19+00:00  feinberg_linda   \n",
       "\n",
       "              location following followers retweetcount  \\\n",
       "0                            820       493            2   \n",
       "1                             14         1            0   \n",
       "2  Newcastle Australia        79        24            8   \n",
       "3                            245        70            0   \n",
       "4                            311       595         2250   \n",
       "\n",
       "                                                text  \n",
       "0  \"A U.S. defense official said Monday that Ukra...  \n",
       "1  - what's your superpower?\\n- I'm Ukrainian 🇺🇦\\...  \n",
       "2  It took Australia's #ABC journalists less than...  \n",
       "3  @xXDeMoSiKXx @YourAnonOne No. Maybe you can se...  \n",
       "4  NEW: In a remarkable sign of the solidarity #P...  "
      ]
     },
     "execution_count": 52,
     "metadata": {},
     "output_type": "execute_result"
    }
   ],
   "source": [
    "tweets_df.head()"
   ]
  },
  {
   "cell_type": "markdown",
   "id": "be6a8ab0",
   "metadata": {},
   "source": [
    "Checkout the tweepy documentation to know how to use its coponents to communicate with the twitter API:\n",
    "\n",
    "https://docs.tweepy.org/en/stable/client.html\n",
    "\n",
    "and how to formulate a twitter API query, and the different search parameters you can use:\n",
    "\n",
    "https://developer.twitter.com/en/docs/twitter-api/tweets/lookup/introduction"
   ]
  }
 ],
 "metadata": {
  "kernelspec": {
   "display_name": "Python 3 (ipykernel)",
   "language": "python",
   "name": "python3"
  },
  "language_info": {
   "codemirror_mode": {
    "name": "ipython",
    "version": 3
   },
   "file_extension": ".py",
   "mimetype": "text/x-python",
   "name": "python",
   "nbconvert_exporter": "python",
   "pygments_lexer": "ipython3",
   "version": "3.9.7"
  }
 },
 "nbformat": 4,
 "nbformat_minor": 5
}
