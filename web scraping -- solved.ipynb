{
 "cells": [
  {
   "cell_type": "markdown",
   "metadata": {},
   "source": [
    "# Scraping a web page"
   ]
  },
  {
   "cell_type": "markdown",
   "metadata": {},
   "source": [
    "using the python BeautifulSoup library, we will scrape the webage: quotes.toscrape.com"
   ]
  },
  {
   "cell_type": "code",
   "execution_count": 1,
   "metadata": {
    "scrolled": true
   },
   "outputs": [
    {
     "name": "stdout",
     "output_type": "stream",
     "text": [
      "Requirement already satisfied: bs4 in /Users/khodor/opt/anaconda3/lib/python3.9/site-packages (0.0.1)\r\n",
      "Requirement already satisfied: beautifulsoup4 in /Users/khodor/opt/anaconda3/lib/python3.9/site-packages (from bs4) (4.10.0)\r\n",
      "Requirement already satisfied: soupsieve>1.2 in /Users/khodor/opt/anaconda3/lib/python3.9/site-packages (from beautifulsoup4->bs4) (2.2.1)\r\n"
     ]
    }
   ],
   "source": [
    "# first, install BeautifulSoup if not already installed\n",
    "!pip install bs4"
   ]
  },
  {
   "cell_type": "markdown",
   "metadata": {},
   "source": [
    "## Crash course in BeautifulSoup"
   ]
  },
  {
   "cell_type": "code",
   "execution_count": 1,
   "metadata": {},
   "outputs": [],
   "source": [
    "#pretty printer, utility library, not necessary for the purposes of this lab\n",
    "from pprint import PrettyPrinter\n",
    "pp = PrettyPrinter(indent=4)\n",
    "\n",
    "pp = pp.pprint"
   ]
  },
  {
   "cell_type": "code",
   "execution_count": 2,
   "metadata": {},
   "outputs": [],
   "source": [
    "from bs4 import BeautifulSoup\n",
    "import requests\n",
    "\n",
    "# a demo HTML content on which we will run a couple of tests\n",
    "demo_content = \"\"\"<div class=\"quote\">\n",
    "\n",
    "        <span class=\"text\">“Imperfection is beauty, madness is genius and it's better to be absolutely ridiculous than absolutely boring.”</span>\n",
    "        <span>by <small class=\"author\">Marilyn Monroe</small>\n",
    "        <a href=\"/author/Marilyn-Monroe\">(about)</a>\n",
    "        </span>\n",
    "    </div>\"\"\""
   ]
  },
  {
   "cell_type": "markdown",
   "metadata": {},
   "source": [
    "you can use BeautifulSoup to query HTML elements in a webpage, similar to how you would use JavaScript"
   ]
  },
  {
   "cell_type": "code",
   "execution_count": 4,
   "metadata": {},
   "outputs": [],
   "source": [
    "# initialize a BeautifulSoup object with the content you want to scrape\n",
    "soup = BeautifulSoup(demo_content)"
   ]
  },
  {
   "cell_type": "code",
   "execution_count": 5,
   "metadata": {},
   "outputs": [
    {
     "name": "stdout",
     "output_type": "stream",
     "text": [
      "all the '<span>' elements extracted from the text:\n",
      "[   <span class=\"text\">“Imperfection is beauty, madness is genius and it's better to be absolutely ridiculous than absolutely boring.”</span>,\n",
      "    <span>by <small class=\"author\">Marilyn Monroe</small>\n",
      "<a href=\"/author/Marilyn-Monroe\">(about)</a>\n",
      "</span>]\n"
     ]
    }
   ],
   "source": [
    "# find all 'span' elements in our content\n",
    "spans = soup.find_all('span')\n",
    "print(\"all the '<span>' elements extracted from the text:\")\n",
    "pp(spans)"
   ]
  },
  {
   "cell_type": "code",
   "execution_count": 6,
   "metadata": {},
   "outputs": [
    {
     "name": "stdout",
     "output_type": "stream",
     "text": [
      "all the '<span>' elements with class 'text' extracted from the text:\n",
      "[   <span class=\"text\">“Imperfection is beauty, madness is genius and it's better to be absolutely ridiculous than absolutely boring.”</span>]\n"
     ]
    }
   ],
   "source": [
    "# find a specific span by property name (class name in this case)\n",
    "class_text_spans = soup.find_all('span', {'class': 'text'})\n",
    "print(\"all the '<span>' elements with class 'text' extracted from the text:\")\n",
    "pp(class_text_spans)"
   ]
  },
  {
   "cell_type": "code",
   "execution_count": 9,
   "metadata": {},
   "outputs": [
    {
     "name": "stdout",
     "output_type": "stream",
     "text": [
      "elements extracted from a previous query:\n",
      "[<small class=\"author\">Marilyn Monroe</small>]\n"
     ]
    }
   ],
   "source": [
    "# perform a search query on a result of a previous search query\n",
    "fine_tuned_span_results = []\n",
    "for span_result in spans:\n",
    "    fine_tuned_span_results += span_result.find_all('small')\n",
    "print(\"elements extracted from a previous query:\")\n",
    "pp(fine_tuned_span_results)"
   ]
  },
  {
   "cell_type": "markdown",
   "metadata": {},
   "source": [
    "If you are interested, you can read lore about BeautifulSoup in the documentation: https://beautiful-soup-4.readthedocs.io/en/latest/"
   ]
  },
  {
   "cell_type": "markdown",
   "metadata": {},
   "source": [
    "## Scraping quotes.toscrape.com"
   ]
  },
  {
   "cell_type": "markdown",
   "metadata": {},
   "source": [
    "Start by inspecting quotes.toscrape.com by using \"inspect element\" from the context menu (right-click)"
   ]
  },
  {
   "cell_type": "markdown",
   "metadata": {},
   "source": [
    "Your mission, shall you choose to accept it, is to scrape the aforementioned website, and extract all the quotes of the first 10 pages. In addition, save the quotes in a python dictionary, where the key is the quote author's name, and the values are the list of quotes of the author."
   ]
  },
  {
   "cell_type": "markdown",
   "metadata": {},
   "source": [
    "So as an example, your final dictionary would look like this:\n",
    "\n",
    "{\n",
    "\n",
    "    'Jorge Luis Borges': [   '“I have always imagined that Paradise will be a '\n",
    "                             'kind of library.”'],\n",
    "                             \n",
    "    'Khaled Hosseini':   [   '“But better to get hurt by the truth than '\n",
    "                           'comforted with a lie.”'],\n",
    "                           \n",
    "    \"Madeleine L'Engle\": [   '“You have to write the book that wants to be '\n",
    "                             'written. And if the book will be too difficult '\n",
    "                             'for grown-ups, then you write it for children.”'],\n",
    "    ...\n",
    "}"
   ]
  },
  {
   "cell_type": "code",
   "execution_count": 3,
   "metadata": {},
   "outputs": [
    {
     "name": "stdout",
     "output_type": "stream",
     "text": [
      "{   'Albert Einstein': [   '“The world as we have created it is a process of '\n",
      "                           'our thinking. It cannot be changed without '\n",
      "                           'changing our thinking.”',\n",
      "                           '“There are only two ways to live your life. One is '\n",
      "                           'as though nothing is a miracle. The other is as '\n",
      "                           'though everything is a miracle.”',\n",
      "                           '“Try not to become a man of success. Rather become '\n",
      "                           'a man of value.”',\n",
      "                           \"“If you can't explain it to a six year old, you \"\n",
      "                           \"don't understand it yourself.”\",\n",
      "                           '“If you want your children to be intelligent, read '\n",
      "                           'them fairy tales. If you want them to be more '\n",
      "                           'intelligent, read them more fairy tales.”',\n",
      "                           '“Logic will get you from A to Z; imagination will '\n",
      "                           'get you everywhere.”',\n",
      "                           '“Any fool can know. The point is to understand.”',\n",
      "                           '“Life is like riding a bicycle. To keep your '\n",
      "                           'balance, you must keep moving.”',\n",
      "                           '“If I were not a physicist, I would probably be a '\n",
      "                           'musician. I often think in music. I live my '\n",
      "                           'daydreams in music. I see my life in terms of '\n",
      "                           'music.”',\n",
      "                           '“Anyone who has never made a mistake has never '\n",
      "                           'tried anything new.”'],\n",
      "    'Alexandre Dumas fils': [   '“The difference between genius and stupidity '\n",
      "                                'is: genius has its limits.”'],\n",
      "    'Alfred Tennyson': [   '“If I had a flower for every time I thought of '\n",
      "                           'you...I could walk through my garden forever.”'],\n",
      "    'Allen Saunders': [   '“Life is what happens to us while we are making '\n",
      "                          'other plans.”'],\n",
      "    'André Gide': [   '“It is better to be hated for what you are than to be '\n",
      "                      'loved for what you are not.”'],\n",
      "    'Ayn Rand': [   \"“The question isn't who is going to let me; it's who is \"\n",
      "                    'going to stop me.”'],\n",
      "    'Bob Marley': [   '“You may not be her first, her last, or her only. She '\n",
      "                      'loved before she may love again. But if she loves you '\n",
      "                      \"now, what else matters? She's not perfect—you aren't \"\n",
      "                      'either, and the two of you may never be perfect '\n",
      "                      'together but if she can make you laugh, cause you to '\n",
      "                      'think twice, and admit to being human and making '\n",
      "                      'mistakes, hold onto her and give her the most you can. '\n",
      "                      'She may not be thinking about you every second of the '\n",
      "                      'day, but she will give you a part of her that she knows '\n",
      "                      \"you can break—her heart. So don't hurt her, don't \"\n",
      "                      \"change her, don't analyze and don't expect more than \"\n",
      "                      'she can give. Smile when she makes you happy, let her '\n",
      "                      \"know when she makes you mad, and miss her when she's \"\n",
      "                      'not there.”',\n",
      "                      '“One good thing about music, when it hits you, you feel '\n",
      "                      'no pain.”',\n",
      "                      '“The truth is, everyone is going to hurt you. You just '\n",
      "                      'got to find the ones worth suffering for.”'],\n",
      "    'C.S. Lewis': [   '“You can never get a cup of tea large enough or a book '\n",
      "                      'long enough to suit me.”',\n",
      "                      '“To love at all is to be vulnerable. Love anything and '\n",
      "                      'your heart will be wrung and possibly broken. If you '\n",
      "                      'want to make sure of keeping it intact you must give it '\n",
      "                      'to no one, not even an animal. Wrap it carefully round '\n",
      "                      'with hobbies and little luxuries; avoid all '\n",
      "                      'entanglements. Lock it up safe in the casket or coffin '\n",
      "                      'of your selfishness. But in that casket, safe, dark, '\n",
      "                      'motionless, airless, it will change. It will not be '\n",
      "                      'broken; it will become unbreakable, impenetrable, '\n",
      "                      'irredeemable. To love is to be vulnerable.”',\n",
      "                      '“Some day you will be old enough to start reading fairy '\n",
      "                      'tales again.”',\n",
      "                      '“We are not necessarily doubting that God will do the '\n",
      "                      'best for us; we are wondering how painful the best will '\n",
      "                      'turn out to be.”',\n",
      "                      '“I believe in Christianity as I believe that the sun '\n",
      "                      'has risen: not only because I see it, but because by it '\n",
      "                      'I see everything else.”'],\n",
      "    'Charles Bukowski': [   \"“That's the problem with drinking, I thought, as \"\n",
      "                            'I poured myself a drink. If something bad happens '\n",
      "                            'you drink in an attempt to forget; if something '\n",
      "                            'good happens you drink in order to celebrate; and '\n",
      "                            'if nothing happens you drink to make something '\n",
      "                            'happen.”',\n",
      "                            '“Some people never go crazy. What truly horrible '\n",
      "                            'lives they must lead.”'],\n",
      "    'Charles M. Schulz': [   '“All you need is love. But a little chocolate '\n",
      "                             \"now and then doesn't hurt.”\"],\n",
      "    'Douglas Adams': [   '“I may not have gone where I intended to go, but I '\n",
      "                         'think I have ended up where I needed to be.”'],\n",
      "    'Dr. Seuss': [   '“I like nonsense, it wakes up the brain cells. Fantasy '\n",
      "                     'is a necessary ingredient in living.”',\n",
      "                     '“Today you are You, that is truer than true. There is no '\n",
      "                     'one alive who is Youer than You.”',\n",
      "                     '“The more that you read, the more things you will know. '\n",
      "                     \"The more that you learn, the more places you'll go.”\",\n",
      "                     '“I have heard there are troubles of more than one kind. '\n",
      "                     \"Some come from ahead and some come from behind. But I've \"\n",
      "                     \"bought a big bat. I'm all ready you see. Now my troubles \"\n",
      "                     'are going to have troubles with me!”',\n",
      "                     '“Think left and think right and think low and think '\n",
      "                     'high. Oh, the thinks you can think up if only you try!”',\n",
      "                     \"“A person's a person, no matter how small.”\"],\n",
      "    'E.E. Cummings': [   '“It takes courage to grow up and become who you '\n",
      "                         'really are.”'],\n",
      "    'Eleanor Roosevelt': [   '“A woman is like a tea bag; you never know how '\n",
      "                             \"strong it is until it's in hot water.”\",\n",
      "                             '“Do one thing every day that scares you.”'],\n",
      "    'Elie Wiesel': [   \"“The opposite of love is not hate, it's indifference. \"\n",
      "                       \"The opposite of art is not ugliness, it's \"\n",
      "                       'indifference. The opposite of faith is not heresy, '\n",
      "                       \"it's indifference. And the opposite of life is not \"\n",
      "                       \"death, it's indifference.”\"],\n",
      "    'Ernest Hemingway': [   '“There is no friend as loyal as a book.”',\n",
      "                            '“There is nothing to writing. All you do is sit '\n",
      "                            'down at a typewriter and bleed.”'],\n",
      "    'Friedrich Nietzsche': [   '“It is not a lack of love, but a lack of '\n",
      "                               'friendship that makes unhappy marriages.”'],\n",
      "    'Garrison Keillor': [   '“Anyone who thinks sitting in church can make you '\n",
      "                            'a Christian must also think that sitting in a '\n",
      "                            'garage can make you a car.”'],\n",
      "    'George Bernard Shaw': [   \"“Life isn't about finding yourself. Life is \"\n",
      "                               'about creating yourself.”'],\n",
      "    'George Carlin': [   '“The reason I talk to myself is because I’m the only '\n",
      "                         'one whose answers I accept.”'],\n",
      "    'George Eliot': ['“It is never too late to be what you might have been.”'],\n",
      "    'George R.R. Martin': [   '“A reader lives a thousand lives before he '\n",
      "                              'dies, said Jojen. The man who never reads lives '\n",
      "                              'only one.”',\n",
      "                              '“... a mind needs books as a sword needs a '\n",
      "                              'whetstone, if it is to keep its edge.”'],\n",
      "    'Harper Lee': [   '“You never really understand a person until you '\n",
      "                      'consider things from his point of view... Until you '\n",
      "                      'climb inside of his skin and walk around in it.”'],\n",
      "    'Haruki Murakami': [   '“If you only read the books that everyone else is '\n",
      "                           'reading, you can only think what everyone else is '\n",
      "                           'thinking.”'],\n",
      "    'Helen Keller': [   '“When one door of happiness closes, another opens; '\n",
      "                        'but often we look so long at the closed door that we '\n",
      "                        'do not see the one which has been opened for us.”'],\n",
      "    'J.D. Salinger': [   '“What really knocks me out is a book that, when '\n",
      "                         \"you're all done reading it, you wish the author that \"\n",
      "                         'wrote it was a terrific friend of yours and you '\n",
      "                         'could call him up on the phone whenever you felt '\n",
      "                         \"like it. That doesn't happen much, though.”\"],\n",
      "    'J.K. Rowling': [   '“It is our choices, Harry, that show what we truly '\n",
      "                        'are, far more than our abilities.”',\n",
      "                        '“It takes a great deal of bravery to stand up to our '\n",
      "                        'enemies, but just as much to stand up to our '\n",
      "                        'friends.”',\n",
      "                        '“It is impossible to live without failing at '\n",
      "                        'something, unless you live so cautiously that you '\n",
      "                        'might as well not have lived at all - in which case, '\n",
      "                        'you fail by default.”',\n",
      "                        '“Of course it is happening inside your head, Harry, '\n",
      "                        'but why on earth should that mean that it is not '\n",
      "                        'real?”',\n",
      "                        '“To the well-organized mind, death is but the next '\n",
      "                        'great adventure.”',\n",
      "                        '“It matters not what someone is born, but what they '\n",
      "                        'grow to be.”',\n",
      "                        '“Do not pity the dead, Harry. Pity the living, and, '\n",
      "                        'above all those who live without love.”',\n",
      "                        '“Remember, if the time should come when you have to '\n",
      "                        'make a choice between what is right and what is easy, '\n",
      "                        'remember what happened to a boy who was good, and '\n",
      "                        'kind, and brave, because he strayed across the path '\n",
      "                        'of Lord Voldemort. Remember Cedric Diggory.”',\n",
      "                        '“The truth.\" Dumbledore sighed. \"It is a beautiful '\n",
      "                        'and terrible thing, and should therefore be treated '\n",
      "                        'with great caution.”'],\n",
      "    'J.M. Barrie': ['“To die will be an awfully big adventure.”'],\n",
      "    'J.R.R. Tolkien': ['“Not all those who wander are lost.”'],\n",
      "    'James Baldwin': [   '“Love does not begin and end the way we seem to '\n",
      "                         'think it does. Love is a battle, love is a war; love '\n",
      "                         'is a growing up.”'],\n",
      "    'Jane Austen': [   '“The person, be it gentleman or lady, who has not '\n",
      "                       'pleasure in a good novel, must be intolerably stupid.”',\n",
      "                       '“There is nothing I would not do for those who are '\n",
      "                       'really my friends. I have no notion of loving people '\n",
      "                       'by halves, it is not my nature.”',\n",
      "                       \"“A lady's imagination is very rapid; it jumps from \"\n",
      "                       'admiration to love, from love to matrimony in a '\n",
      "                       'moment.”',\n",
      "                       '“I declare after all there is no enjoyment like '\n",
      "                       'reading! How much sooner one tires of any thing than '\n",
      "                       'of a book! -- When I have a house of my own, I shall '\n",
      "                       'be miserable if I have not an excellent library.”',\n",
      "                       '“There are few people whom I really love, and still '\n",
      "                       'fewer of whom I think well. The more I see of the '\n",
      "                       'world, the more am I dissatisfied with it; and every '\n",
      "                       'day confirms my belief of the inconsistency of all '\n",
      "                       'human characters, and of the little dependence that '\n",
      "                       'can be placed on the appearance of merit or sense.”'],\n",
      "    'Jim Henson': [   '“Beauty is in the eye of the beholder and it may be '\n",
      "                      'necessary from time to time to give a stupid or '\n",
      "                      'misinformed beholder a black eye.”'],\n",
      "    'Jimi Hendrix': [   \"“I'm the one that's got to die when it's time for me \"\n",
      "                        'to die, so let me live my life the way I want to.”'],\n",
      "    'John Lennon': [   \"“You may say I'm a dreamer, but I'm not the only one. \"\n",
      "                       \"I hope someday you'll join us. And the world will live \"\n",
      "                       'as one.”'],\n",
      "    'Jorge Luis Borges': [   '“I have always imagined that Paradise will be a '\n",
      "                             'kind of library.”'],\n",
      "    'Khaled Hosseini': [   '“But better to get hurt by the truth than '\n",
      "                           'comforted with a lie.”'],\n",
      "    \"Madeleine L'Engle\": [   '“You have to write the book that wants to be '\n",
      "                             'written. And if the book will be too difficult '\n",
      "                             'for grown-ups, then you write it for children.”'],\n",
      "    'Marilyn Monroe': [   \"“Imperfection is beauty, madness is genius and it's \"\n",
      "                          'better to be absolutely ridiculous than absolutely '\n",
      "                          'boring.”',\n",
      "                          '“This life is what you make it. No matter what, '\n",
      "                          \"you're going to mess up sometimes, it's a universal \"\n",
      "                          'truth. But the good part is you get to decide how '\n",
      "                          \"you're going to mess it up. Girls will be your \"\n",
      "                          \"friends - they'll act like it anyway. But just \"\n",
      "                          'remember, some come, some go. The ones that stay '\n",
      "                          \"with you through everything - they're your true \"\n",
      "                          \"best friends. Don't let go of them. Also remember, \"\n",
      "                          'sisters make the best friends in the world. As for '\n",
      "                          \"lovers, well, they'll come and go too. And baby, I \"\n",
      "                          'hate to say it, most of them - actually pretty much '\n",
      "                          'all of them are going to break your heart, but you '\n",
      "                          \"can't give up because if you give up, you'll never \"\n",
      "                          \"find your soulmate. You'll never find that half who \"\n",
      "                          'makes you whole and that goes for everything. Just '\n",
      "                          \"because you fail once, doesn't mean you're gonna \"\n",
      "                          'fail at everything. Keep trying, hold on, and '\n",
      "                          'always, always, always believe in yourself, because '\n",
      "                          \"if you don't, then who will, sweetie? So keep your \"\n",
      "                          'head high, keep your chin up, and most importantly, '\n",
      "                          \"keep smiling, because life's a beautiful thing and \"\n",
      "                          \"there's so much to smile about.”\",\n",
      "                          '“You believe lies so you eventually learn to trust '\n",
      "                          'no one but yourself.”',\n",
      "                          '“If you can make a woman laugh, you can make her do '\n",
      "                          'anything.”',\n",
      "                          '“The real lover is the man who can thrill you by '\n",
      "                          'kissing your forehead or smiling into your eyes or '\n",
      "                          'just staring into space.”',\n",
      "                          \"“A wise girl kisses but doesn't love, listens but \"\n",
      "                          \"doesn't believe, and leaves before she is left.”\",\n",
      "                          '“I am good, but not an angel. I do sin, but I am '\n",
      "                          'not the devil. I am just a small girl in a big '\n",
      "                          'world trying to find someone to love.”'],\n",
      "    'Mark Twain': [   '“Good friends, good books, and a sleepy conscience: '\n",
      "                      'this is the ideal life.”',\n",
      "                      '“I have never let my schooling interfere with my '\n",
      "                      'education.”',\n",
      "                      \"“′Classic′ - a book which people praise and don't \"\n",
      "                      'read.”',\n",
      "                      '“The fear of death follows from the fear of life. A man '\n",
      "                      'who lives fully is prepared to die at any time.”',\n",
      "                      '“A lie can travel half way around the world while the '\n",
      "                      'truth is putting on its shoes.”',\n",
      "                      '“Never tell the truth to people who are not worthy of '\n",
      "                      'it.”'],\n",
      "    'Martin Luther King Jr.': ['“Only in the darkness can you see the stars.”'],\n",
      "    'Mother Teresa': [   '“If you judge people, you have no time to love '\n",
      "                         'them.”',\n",
      "                         '“Not all of us can do great things. But we can do '\n",
      "                         'small things with great love.”'],\n",
      "    'Pablo Neruda': [   '“I love you without knowing how, or when, or from '\n",
      "                        'where. I love you simply, without problems or pride: '\n",
      "                        'I love you in this way because I do not know any '\n",
      "                        'other way of loving but this, in which there is no I '\n",
      "                        'or you, so intimate that your hand upon my chest is '\n",
      "                        'my hand, so intimate that when I fall asleep your '\n",
      "                        'eyes close.”'],\n",
      "    'Ralph Waldo Emerson': [   '“For every minute you are angry you lose sixty '\n",
      "                               'seconds of happiness.”',\n",
      "                               '“Finish each day and be done with it. You have '\n",
      "                               'done what you could. Some blunders and '\n",
      "                               'absurdities no doubt crept in; forget them as '\n",
      "                               'soon as you can. Tomorrow is a new day. You '\n",
      "                               'shall begin it serenely and with too high a '\n",
      "                               'spirit to be encumbered with your old '\n",
      "                               'nonsense.”'],\n",
      "    'Stephenie Meyer': [\"“He's like a drug for you, Bella.”\"],\n",
      "    'Steve Martin': ['“A day without sunshine is like, you know, night.”'],\n",
      "    'Suzanne Collins': [   '“You don’t forget the face of the person who was '\n",
      "                           'your last hope.”',\n",
      "                           \"“Remember, we're madly in love, so it's all right \"\n",
      "                           'to kiss me anytime you feel like it.”'],\n",
      "    'Terry Pratchett': [   '“The trouble with having an open mind, of course, '\n",
      "                           'is that people will insist on coming along and '\n",
      "                           'trying to put things in it.”'],\n",
      "    'Thomas A. Edison': [   \"“I have not failed. I've just found 10,000 ways \"\n",
      "                            \"that won't work.”\"],\n",
      "    'W.C. Fields': ['“I am free of all prejudice. I hate everyone equally. ”'],\n",
      "    'William Nicholson': [\"“We read to know we're not alone.”\"]}\n"
     ]
    }
   ],
   "source": [
    "from bs4 import BeautifulSoup\n",
    "import requests\n",
    "import time\n",
    "\n",
    "# *** note: the link to different pages can be accessed as: http://quotes.toscrape.com/page/PAGE_NUMBER ***\n",
    "link_to_scrape = 'http://quotes.toscrape.com/page/'\n",
    "quotes = {}\n",
    "for i in range(1,11):\n",
    "    # do your magic\n",
    "    full_link = \"{}{}/\".format(link_to_scrape,i)\n",
    "    try:\n",
    "        data = requests.get(full_link)\n",
    "    except requests.exceptions.RequestException as e:\n",
    "        print(e)\n",
    "    if data.status_code == 200:\n",
    "        soup = BeautifulSoup(data._content)\n",
    "        #list all quotes\n",
    "        for qt in soup.find_all('div', { \"class\" : \"quote\"}):\n",
    "            #extract text\n",
    "            txt = qt.find_all('span', {\"class\":'text'})\n",
    "            quote = ' '.join([t.text for t in txt])\n",
    "            #extract author\n",
    "            auth = qt.find_all('small',{'class':'author'})\n",
    "            auth = auth[0].text\n",
    "            if auth not in quotes:\n",
    "                \n",
    "                quotes[auth] = []\n",
    "            quotes[auth].append(quote)\n",
    "    # sleep for 1 second so not to overload the web page with requests\n",
    "    time.sleep(1)\n",
    "pp(quotes)\n",
    "        "
   ]
  }
 ],
 "metadata": {
  "kernelspec": {
   "display_name": "Python 3 (ipykernel)",
   "language": "python",
   "name": "python3"
  },
  "language_info": {
   "codemirror_mode": {
    "name": "ipython",
    "version": 3
   },
   "file_extension": ".py",
   "mimetype": "text/x-python",
   "name": "python",
   "nbconvert_exporter": "python",
   "pygments_lexer": "ipython3",
   "version": "3.9.7"
  }
 },
 "nbformat": 4,
 "nbformat_minor": 4
}
